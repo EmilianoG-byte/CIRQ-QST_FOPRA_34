{
 "cells": [
  {
   "cell_type": "code",
   "execution_count": 4,
   "id": "117b2201",
   "metadata": {
    "collapsed": true
   },
   "outputs": [
    {
     "name": "stdout",
     "output_type": "stream",
     "text": [
      "Collecting cirq\n",
      "  Using cached cirq-0.14.1-py3-none-any.whl (7.8 kB)\n",
      "Collecting cirq-aqt==0.14.1\n",
      "  Using cached cirq_aqt-0.14.1-py3-none-any.whl (19 kB)\n",
      "Collecting cirq-core==0.14.1\n",
      "  Using cached cirq_core-0.14.1-py3-none-any.whl (1.8 MB)\n",
      "Collecting cirq-google==0.14.1\n",
      "  Using cached cirq_google-0.14.1-py3-none-any.whl (541 kB)\n",
      "Collecting cirq-rigetti==0.14.1\n",
      "  Using cached cirq_rigetti-0.14.1-py3-none-any.whl (56 kB)\n",
      "Collecting cirq-ionq==0.14.1\n",
      "  Using cached cirq_ionq-0.14.1-py3-none-any.whl (48 kB)\n",
      "Collecting cirq-web==0.14.1\n",
      "  Using cached cirq_web-0.14.1-py3-none-any.whl (593 kB)\n",
      "Collecting cirq-pasqal==0.14.1\n",
      "  Using cached cirq_pasqal-0.14.1-py3-none-any.whl (30 kB)\n",
      "Collecting requests~=2.18\n",
      "  Using cached requests-2.27.1-py2.py3-none-any.whl (63 kB)\n",
      "Collecting matplotlib~=3.0\n",
      "  Downloading matplotlib-3.5.2-cp39-cp39-macosx_10_9_x86_64.whl (7.3 MB)\n",
      "\u001b[K     |████████████████████████████████| 7.3 MB 4.2 MB/s eta 0:00:01\n",
      "\u001b[?25hCollecting numpy~=1.16\n",
      "  Downloading numpy-1.22.4-cp39-cp39-macosx_10_15_x86_64.whl (17.7 MB)\n",
      "\u001b[K     |████████████████████████████████| 17.7 MB 15.6 MB/s eta 0:00:01\n",
      "\u001b[?25hCollecting sortedcontainers~=2.0\n",
      "  Using cached sortedcontainers-2.4.0-py2.py3-none-any.whl (29 kB)\n",
      "Collecting tqdm\n",
      "  Using cached tqdm-4.64.0-py2.py3-none-any.whl (78 kB)\n",
      "Collecting scipy\n",
      "  Downloading scipy-1.8.1-cp39-cp39-macosx_12_0_universal2.macosx_10_9_x86_64.whl (55.6 MB)\n",
      "\u001b[K     |████████████████████████████████| 55.6 MB 353 kB/s  eta 0:00:01\n",
      "\u001b[?25hCollecting typing-extensions\n",
      "  Using cached typing_extensions-4.2.0-py3-none-any.whl (24 kB)\n",
      "Collecting networkx~=2.4\n",
      "  Using cached networkx-2.8.2-py3-none-any.whl (2.0 MB)\n",
      "Collecting sympy<1.10\n",
      "  Using cached sympy-1.9-py3-none-any.whl (6.2 MB)\n",
      "Collecting duet~=0.2.0\n",
      "  Using cached duet-0.2.6-py3-none-any.whl (28 kB)\n",
      "Collecting pandas\n",
      "  Downloading pandas-1.4.2-cp39-cp39-macosx_10_9_x86_64.whl (11.1 MB)\n",
      "\u001b[K     |████████████████████████████████| 11.1 MB 11.7 MB/s eta 0:00:01\n",
      "\u001b[?25hCollecting google-api-core[grpc]<2.0.0dev,>=1.14.0\n",
      "  Using cached google_api_core-1.31.6-py2.py3-none-any.whl (93 kB)\n",
      "Collecting protobuf>=3.13.0\n",
      "  Using cached protobuf-4.21.1-cp37-abi3-macosx_10_9_universal2.whl (483 kB)\n",
      "Collecting idna~=2.10\n",
      "  Using cached idna-2.10-py2.py3-none-any.whl (58 kB)\n",
      "Collecting pyquil~=3.0.0\n",
      "  Using cached pyquil-3.0.1-py3-none-any.whl (220 kB)\n",
      "Collecting certifi~=2021.5.30\n",
      "  Using cached certifi-2021.5.30-py2.py3-none-any.whl (145 kB)\n",
      "Collecting sniffio~=1.2.0\n",
      "  Using cached sniffio-1.2.0-py3-none-any.whl (10 kB)\n",
      "Collecting h11~=0.9.0\n",
      "  Using cached h11-0.9.0-py2.py3-none-any.whl (53 kB)\n",
      "Collecting httpcore~=0.11.1\n",
      "  Using cached httpcore-0.11.1-py3-none-any.whl (52 kB)\n",
      "Requirement already satisfied: python-dateutil~=2.8.1 in /Users/emiliano_gr/opt/anaconda3/envs/google-quantum/lib/python3.9/site-packages (from cirq-rigetti==0.14.1->cirq) (2.8.2)\n",
      "Collecting iso8601~=0.1.14\n",
      "  Using cached iso8601-0.1.16-py2.py3-none-any.whl (10 kB)\n",
      "Collecting attrs~=20.3.0\n",
      "  Using cached attrs-20.3.0-py2.py3-none-any.whl (49 kB)\n",
      "Collecting rfc3339~=6.2\n",
      "  Using cached rfc3339-6.2-py3-none-any.whl (5.5 kB)\n",
      "Collecting retrying~=1.3.3\n",
      "  Using cached retrying-1.3.3-py3-none-any.whl\n",
      "Collecting pydantic~=1.8.2\n",
      "  Downloading pydantic-1.8.2-cp39-cp39-macosx_10_9_x86_64.whl (2.7 MB)\n",
      "\u001b[K     |████████████████████████████████| 2.7 MB 30.2 MB/s eta 0:00:01\n",
      "\u001b[?25hCollecting qcs-api-client~=0.8.0\n",
      "  Using cached qcs_api_client-0.8.0-py3-none-any.whl (97 kB)\n",
      "Requirement already satisfied: six~=1.16.0 in /Users/emiliano_gr/opt/anaconda3/envs/google-quantum/lib/python3.9/site-packages (from cirq-rigetti==0.14.1->cirq) (1.16.0)\n",
      "Collecting rfc3986~=1.5.0\n",
      "  Using cached rfc3986-1.5.0-py2.py3-none-any.whl (31 kB)\n",
      "Collecting httpx~=0.15.5\n",
      "  Using cached httpx-0.15.5-py3-none-any.whl (65 kB)\n",
      "Collecting toml~=0.10.2\n",
      "  Using cached toml-0.10.2-py2.py3-none-any.whl (16 kB)\n",
      "Collecting pyjwt~=1.7.1\n",
      "  Using cached PyJWT-1.7.1-py2.py3-none-any.whl (18 kB)\n",
      "Collecting pytz\n",
      "  Using cached pytz-2022.1-py2.py3-none-any.whl (503 kB)\n",
      "Collecting protobuf>=3.13.0\n",
      "  Downloading protobuf-3.20.1-cp39-cp39-macosx_10_9_x86_64.whl (962 kB)\n",
      "\u001b[K     |████████████████████████████████| 962 kB 17.5 MB/s eta 0:00:01\n",
      "\u001b[?25hCollecting googleapis-common-protos<2.0dev,>=1.6.0\n",
      "  Using cached googleapis_common_protos-1.56.2-py2.py3-none-any.whl (211 kB)\n",
      "Requirement already satisfied: setuptools>=40.3.0 in /Users/emiliano_gr/opt/anaconda3/envs/google-quantum/lib/python3.9/site-packages (from google-api-core[grpc]<2.0.0dev,>=1.14.0->cirq-google==0.14.1->cirq) (61.2.0)\n",
      "Collecting packaging>=14.3\n",
      "  Using cached packaging-21.3-py3-none-any.whl (40 kB)\n",
      "Collecting google-auth<2.0dev,>=1.25.0\n",
      "  Using cached google_auth-1.35.0-py2.py3-none-any.whl (152 kB)\n",
      "Collecting grpcio<2.0dev,>=1.29.0\n",
      "  Downloading grpcio-1.46.3-cp39-cp39-macosx_10_10_x86_64.whl (4.4 MB)\n",
      "\u001b[K     |████████████████████████████████| 4.4 MB 21.0 MB/s eta 0:00:01\n",
      "\u001b[?25hCollecting rsa<5,>=3.1.4\n",
      "  Using cached rsa-4.8-py3-none-any.whl (39 kB)\n",
      "Collecting cachetools<5.0,>=2.0.0\n",
      "  Using cached cachetools-4.2.4-py3-none-any.whl (10 kB)\n",
      "Collecting pyasn1-modules>=0.2.1\n",
      "  Using cached pyasn1_modules-0.2.8-py2.py3-none-any.whl (155 kB)\n",
      "Collecting pillow>=6.2.0\n",
      "  Downloading Pillow-9.1.1-cp39-cp39-macosx_10_10_x86_64.whl (3.1 MB)\n",
      "\u001b[K     |████████████████████████████████| 3.1 MB 12.4 MB/s eta 0:00:01\n",
      "\u001b[?25hCollecting fonttools>=4.22.0\n",
      "  Using cached fonttools-4.33.3-py3-none-any.whl (930 kB)\n",
      "Collecting cycler>=0.10\n",
      "  Using cached cycler-0.11.0-py3-none-any.whl (6.4 kB)\n",
      "Collecting pyparsing>=2.2.1\n",
      "  Using cached pyparsing-3.0.9-py3-none-any.whl (98 kB)\n",
      "Collecting kiwisolver>=1.0.1\n",
      "  Downloading kiwisolver-1.4.2-cp39-cp39-macosx_10_9_x86_64.whl (65 kB)\n",
      "\u001b[K     |████████████████████████████████| 65 kB 13.4 MB/s eta 0:00:01\n",
      "\u001b[?25hCollecting pyasn1<0.5.0,>=0.4.6\n",
      "  Using cached pyasn1-0.4.8-py2.py3-none-any.whl (77 kB)\n",
      "Collecting rpcq<4.0.0,>=3.6.0\n",
      "  Using cached rpcq-3.10.0-py3-none-any.whl\n",
      "Collecting retry<0.10.0,>=0.9.2\n",
      "  Using cached retry-0.9.2-py2.py3-none-any.whl (8.0 kB)\n",
      "Collecting lark<0.12.0,>=0.11.1\n",
      "  Using cached lark-0.11.3-py2.py3-none-any.whl\n",
      "Collecting urllib3<1.27,>=1.21.1\n",
      "  Using cached urllib3-1.26.9-py2.py3-none-any.whl (138 kB)\n",
      "Collecting charset-normalizer~=2.0.0\n",
      "  Using cached charset_normalizer-2.0.12-py3-none-any.whl (39 kB)\n",
      "Collecting py<2.0.0,>=1.4.26\n",
      "  Using cached py-1.11.0-py2.py3-none-any.whl (98 kB)\n",
      "Requirement already satisfied: decorator>=3.4.2 in /Users/emiliano_gr/opt/anaconda3/envs/google-quantum/lib/python3.9/site-packages (from retry<0.10.0,>=0.9.2->pyquil~=3.0.0->cirq-rigetti==0.14.1->cirq) (5.1.1)\n",
      "Collecting python-rapidjson\n",
      "  Downloading python_rapidjson-1.6-cp39-cp39-macosx_10_9_x86_64.whl (214 kB)\n",
      "\u001b[K     |████████████████████████████████| 214 kB 15.2 MB/s eta 0:00:01\n",
      "\u001b[?25hRequirement already satisfied: pyzmq>=17 in /Users/emiliano_gr/opt/anaconda3/envs/google-quantum/lib/python3.9/site-packages (from rpcq<4.0.0,>=3.6.0->pyquil~=3.0.0->cirq-rigetti==0.14.1->cirq) (22.3.0)\n",
      "Collecting msgpack<1.0,>=0.6\n",
      "  Using cached msgpack-0.6.2.tar.gz (119 kB)\n",
      "Collecting ruamel.yaml\n",
      "  Using cached ruamel.yaml-0.17.21-py3-none-any.whl (109 kB)\n",
      "Collecting mpmath>=0.19\n",
      "  Using cached mpmath-1.2.1-py3-none-any.whl (532 kB)\n",
      "Collecting ruamel.yaml.clib>=0.2.6\n",
      "  Downloading ruamel.yaml.clib-0.2.6-cp39-cp39-macosx_10_9_x86_64.whl (149 kB)\n",
      "\u001b[K     |████████████████████████████████| 149 kB 16.4 MB/s eta 0:00:01\n",
      "\u001b[?25hBuilding wheels for collected packages: msgpack\n",
      "  Building wheel for msgpack (setup.py) ... \u001b[?25ldone\n",
      "\u001b[?25h  Created wheel for msgpack: filename=msgpack-0.6.2-cp39-cp39-macosx_10_9_x86_64.whl size=74716 sha256=6ad3d723e6f8bbeebd76f960309708f897a36bb9e82b4446fcbbbbab1207834c\n",
      "  Stored in directory: /Users/emiliano_gr/Library/Caches/pip/wheels/2d/aa/9b/368f5032afaa6628fc86d81ffbc3dc0937a447cec0fe48fc55\n",
      "Successfully built msgpack\n",
      "Installing collected packages: sniffio, rfc3986, pyasn1, idna, h11, urllib3, typing-extensions, ruamel.yaml.clib, rsa, pyparsing, pyasn1-modules, protobuf, httpcore, charset-normalizer, certifi, cachetools, toml, ruamel.yaml, rfc3339, retrying, requests, pytz, python-rapidjson, pyjwt, pydantic, py, pillow, packaging, numpy, msgpack, mpmath, kiwisolver, iso8601, httpx, googleapis-common-protos, google-auth, fonttools, cycler, attrs, tqdm, sympy, sortedcontainers, scipy, rpcq, retry, qcs-api-client, pandas, networkx, matplotlib, lark, grpcio, google-api-core, duet, pyquil, cirq-core, cirq-web, cirq-rigetti, cirq-pasqal, cirq-ionq, cirq-google, cirq-aqt, cirq\n"
     ]
    },
    {
     "name": "stdout",
     "output_type": "stream",
     "text": [
      "  Attempting uninstall: certifi\n",
      "    Found existing installation: certifi 2022.5.18.1\n",
      "    Uninstalling certifi-2022.5.18.1:\n",
      "      Successfully uninstalled certifi-2022.5.18.1\n",
      "Successfully installed attrs-20.3.0 cachetools-4.2.4 certifi-2021.5.30 charset-normalizer-2.0.12 cirq-0.14.1 cirq-aqt-0.14.1 cirq-core-0.14.1 cirq-google-0.14.1 cirq-ionq-0.14.1 cirq-pasqal-0.14.1 cirq-rigetti-0.14.1 cirq-web-0.14.1 cycler-0.11.0 duet-0.2.6 fonttools-4.33.3 google-api-core-1.31.6 google-auth-1.35.0 googleapis-common-protos-1.56.2 grpcio-1.46.3 h11-0.9.0 httpcore-0.11.1 httpx-0.15.5 idna-2.10 iso8601-0.1.16 kiwisolver-1.4.2 lark-0.11.3 matplotlib-3.5.2 mpmath-1.2.1 msgpack-0.6.2 networkx-2.8.2 numpy-1.22.4 packaging-21.3 pandas-1.4.2 pillow-9.1.1 protobuf-3.20.1 py-1.11.0 pyasn1-0.4.8 pyasn1-modules-0.2.8 pydantic-1.8.2 pyjwt-1.7.1 pyparsing-3.0.9 pyquil-3.0.1 python-rapidjson-1.6 pytz-2022.1 qcs-api-client-0.8.0 requests-2.27.1 retry-0.9.2 retrying-1.3.3 rfc3339-6.2 rfc3986-1.5.0 rpcq-3.10.0 rsa-4.8 ruamel.yaml-0.17.21 ruamel.yaml.clib-0.2.6 scipy-1.8.1 sniffio-1.2.0 sortedcontainers-2.4.0 sympy-1.9 toml-0.10.2 tqdm-4.64.0 typing-extensions-4.2.0 urllib3-1.26.9\n",
      "Note: you may need to restart the kernel to use updated packages.\n"
     ]
    }
   ],
   "source": [
    "pip install cirq"
   ]
  },
  {
   "cell_type": "code",
   "execution_count": 2,
   "id": "d7070816",
   "metadata": {},
   "outputs": [],
   "source": [
    "import cirq\n",
    "import numpy as np\n",
    "import matplotlib.pyplot as plt\n",
    "import cirq_google\n",
    "\n",
    "# print the supremacy chip\n",
    "#print(cirq_google.Sycamore)"
   ]
  },
  {
   "cell_type": "code",
   "execution_count": 3,
   "id": "6ce7c995",
   "metadata": {},
   "outputs": [
    {
     "name": "stdout",
     "output_type": "stream",
     "text": [
      "0: ───H───────────\n",
      "\n",
      "1: ───H───@───H───\n",
      "          │\n",
      "2: ───────X───────\n"
     ]
    }
   ],
   "source": [
    "# These are three qubits on a line\n",
    "qubits = cirq.LineQubit.range(3)\n",
    "a = qubits[0]\n",
    "b = qubits[1]\n",
    "c = qubits[2]\n",
    "\n",
    "# This is a collection of operations\n",
    "# Each operation is a gate\n",
    "ops = [cirq.H(a), cirq.H(b), cirq.CNOT(b, c), cirq.H(b)]\n",
    "circuit = cirq.Circuit(ops)\n",
    "\n",
    "# print circuit diagram\n",
    "print(circuit)"
   ]
  },
  {
   "cell_type": "code",
   "execution_count": 4,
   "id": "ac09ccfd",
   "metadata": {},
   "outputs": [
    {
     "name": "stdout",
     "output_type": "stream",
     "text": [
      "0: ───H───@───Z───\n",
      "          │\n",
      "1: ───────X───X───\n",
      "Bra-ket notation for the wavefunction:\n",
      "0.71|01⟩ - 0.71|10⟩\n"
     ]
    }
   ],
   "source": [
    "def Bell(n):\n",
    "    q_chain = cirq.LineQubit.range(2)\n",
    "    bell = cirq.Circuit()\n",
    "\n",
    "    bell.append(cirq.H(q_chain[0]))\n",
    "    bell.append(cirq.CNOT(q_chain[0],q_chain[1]))\n",
    "    \n",
    "    if n == 1:\n",
    "        return bell\n",
    "    elif n==2:\n",
    "        bell.append(cirq.Z(q_chain[1]))\n",
    "        return bell\n",
    "    elif n==3:\n",
    "        bell.append(cirq.X(q_chain[1]))\n",
    "        return bell\n",
    "    elif n==4:\n",
    "        bell.append(cirq.X(q_chain[1]))\n",
    "        bell.append(cirq.Z(q_chain[0]))\n",
    "        return bell\n",
    "\n",
    "bell = Bell(4)\n",
    "print(bell) #1:\n",
    "\n",
    "simulator = cirq.Simulator()\n",
    "result = simulator.simulate(bell)\n",
    "print('Bra-ket notation for the wavefunction:')\n",
    "print(result.dirac_notation())"
   ]
  },
  {
   "cell_type": "code",
   "execution_count": 5,
   "id": "efd6f4dc",
   "metadata": {},
   "outputs": [
    {
     "name": "stdout",
     "output_type": "stream",
     "text": [
      "0: ───Ry(0.639π)───────@───H───M───@───────\n",
      "                       │       │   │\n",
      "1: ───H────────────@───X───────M───┼───@───\n",
      "                   │               │   │\n",
      "2: ────────────────X───────────────X───@───\n",
      "Bra-ket notation for the wavefunction:\n",
      "0.54|000⟩ + 0.84|001⟩\n"
     ]
    }
   ],
   "source": [
    "# we must initialize the Alice and Bob states in the bell state\n",
    "\n",
    "import random\n",
    "from math import pi \n",
    "\n",
    "random.seed(42)\n",
    "\n",
    "# ORDER:\n",
    "# Message\n",
    "# Alice\n",
    "# Bob\n",
    "\n",
    "# creating basics of circuit\n",
    "qubits = 3\n",
    "q_chain = cirq.LineQubit.range(qubits)\n",
    "tele = cirq.Circuit()\n",
    "message = q_chain[0]\n",
    "alice = q_chain[1]\n",
    "bob = q_chain[2]\n",
    "\n",
    "# initializing the 3 qubits\n",
    "#tele.append(cirq.testing.random_superposition(dim=2**qubits)\n",
    "\n",
    "t = pi*random.uniform(0, 1)\n",
    "\n",
    "gate = cirq.ry(t)\n",
    "\n",
    "tele.append(gate(message))\n",
    "\n",
    "#print(tele.append(gate(message))\n",
    "\n",
    "tele.append(cirq.H(alice))\n",
    "tele.append(cirq.CNOT(alice,bob))\n",
    "\n",
    "# NEXT: we want to undo the bell state created between the two qubits of alice\n",
    "\n",
    "tele.append(cirq.CNOT(message,alice))\n",
    "tele.append(cirq.H(message))\n",
    "\n",
    "tele.append(cirq.measure(message,alice))\n",
    "\n",
    "tele.append(cirq.CNOT(message,bob))\n",
    "tele.append(cirq.CZ(alice,bob))\n",
    "            \n",
    "print(tele)\n",
    "\n",
    "#message_random = cirq.testing.random_superposition(dim=2**qubits)\n",
    "            \n",
    "simulator = cirq.Simulator()\n",
    "result = simulator.simulate(tele)\n",
    "print('Bra-ket notation for the wavefunction:')\n",
    "print(result.dirac_notation())"
   ]
  },
  {
   "cell_type": "code",
   "execution_count": 6,
   "id": "a6badde3",
   "metadata": {},
   "outputs": [
    {
     "name": "stdout",
     "output_type": "stream",
     "text": [
      "0: ───Ry(0.639π)───\n",
      "Bra-ket notation for the wavefunction:\n",
      "0.54|0⟩ + 0.84|1⟩\n"
     ]
    }
   ],
   "source": [
    "random.seed(42)\n",
    "\n",
    "q_chain = cirq.LineQubit.range(1)\n",
    "message_test = cirq.Circuit()\n",
    "\n",
    "t = pi*random.uniform(0, 1)\n",
    "\n",
    "gate = cirq.ry(t)\n",
    "\n",
    "message_test.append(gate(message))\n",
    "\n",
    "print(message_test)\n",
    "simulator = cirq.Simulator()\n",
    "result = simulator.simulate(message_test)\n",
    "print('Bra-ket notation for the wavefunction:')\n",
    "print(result.dirac_notation())\n"
   ]
  },
  {
   "cell_type": "markdown",
   "id": "2cf32d56",
   "metadata": {},
   "source": [
    "# Exercise 6:"
   ]
  },
  {
   "cell_type": "code",
   "execution_count": 7,
   "id": "a3e017fe",
   "metadata": {},
   "outputs": [],
   "source": [
    "from numpy import cos, sin\n",
    "from math import sqrt\n",
    "import matplotlib.pyplot as plt \n",
    "\n",
    "def Population(w,wo,w1,t):\n",
    "    Omega = sqrt(w1**2 + (w-wo)**2)\n",
    "    population = (w1*sin(Omega*t/2)/Omega)**2\n",
    "    return population\n",
    "\n",
    "\n",
    "def U(w,wo,w1,t):\n",
    "    q_chain = cirq.LineQubit.range(1)\n",
    "    troter = cirq.Circuit()\n",
    "\n",
    "    dt = 0.05\n",
    "    N = int(t/dt)\n",
    "    \n",
    "    thetaz = -wo*dt\n",
    "    thetax = 2*w1*dt\n",
    "    \n",
    "    for n in range(N):\n",
    "        rx = cirq.rx(thetax*cos(w*n*dt))\n",
    "        rz = cirq.rz(thetaz)\n",
    "        troter.append(rz(q_chain[0]))\n",
    "        troter.append(rx(q_chain[0]))        \n",
    "    return troter\n",
    "\n",
    "\n",
    "def Troterization(w,wo,w1,t, mode='simulate', noise=''):\n",
    "    \n",
    "    reps = 1000\n",
    "    troter = U(w,wo,w1,t)\n",
    "    simulator = cirq.Simulator()\n",
    "    \n",
    "    if mode == 'run':\n",
    "        troter.append(cirq.measure(q_chain[0]))\n",
    "        result = simulator.run(troter, repetitions=reps)\n",
    "        counts = result.histogram(key = '0') \n",
    "        # population for state |1> := prob(measurement=1)\n",
    "        population = counts[1]/reps\n",
    "        return population\n",
    "    elif mode == 'simulate':\n",
    "        result = simulator.simulate(troter)\n",
    "        #print('Bra-ket notation for the wavefunction:')\n",
    "        #print(result.dirac_notation())\n",
    "        #print('Population of state |1>')\n",
    "        population = abs(result.final_state_vector[-1])**2\n",
    "        #print(np.around(population, 3))\n",
    "        return population\n",
    "        \n",
    "    elif mode == 'noise':\n",
    "        troter.append(cirq.measure(q_chain[0]))\n",
    "        result = cirq.sample(program=troter, noise=noise, repetitions=reps) # type(result) = <class 'cirq.study.result.ResultDict'>\n",
    "        # type(histogram) = <class 'collections.Counter'>\n",
    "        counts = result.histogram(key = '0') \n",
    "        # population for state |1> := prob(measurement=1)\n",
    "        population = counts[1]/reps\n",
    "        return population\n",
    "    \n",
    "    else:\n",
    "        raise Exception('Not a valid mode: {}'.format(mode))"
   ]
  },
  {
   "cell_type": "code",
   "execution_count": 8,
   "id": "a45c7f96",
   "metadata": {},
   "outputs": [],
   "source": [
    "ts = np.linspace(0.2,4,100)\n",
    "pop_a = []\n",
    "theo_a = []\n",
    "for t in ts:\n",
    "    w, wo, w1 = 25.5, 25, 2\n",
    "    theo_a.append(Population(w,wo,w1,t))\n",
    "    pop_a.append(Troterization(w,wo,w1,t,'run'))\n",
    "    \n",
    "ws = np.arange(10,40,0.2)\n",
    "pop_b = []\n",
    "theo_b = []\n",
    "for w in ws:\n",
    "    wo, w1 = 25, 2\n",
    "    t = pi/w1\n",
    "    theo_b.append(Population(w,wo,w1,t))\n",
    "    pop_b.append(Troterization(w,wo,w1,t,'run'))\n",
    "\n",
    "pop_c = []\n",
    "theo_c = []\n",
    "for t in ts:\n",
    "    w = 2\n",
    "    theo_c.append(Population(w,w,w,t))\n",
    "    pop_c.append(Troterization(w,w,w,t,'run'))"
   ]
  },
  {
   "cell_type": "code",
   "execution_count": 9,
   "id": "3533a581",
   "metadata": {},
   "outputs": [
    {
     "data": {
      "image/png": "[encoded data removed]",
      "text/plain": [
       "<Figure size 432x288 with 1 Axes>"
      ]
     },
     "metadata": {
      "needs_background": "light"
     },
     "output_type": "display_data"
    },
    {
     "data": {
      "image/png": "[encoded data removed]",
      "text/plain": [
       "<Figure size 432x288 with 1 Axes>"
      ]
     },
     "metadata": {
      "needs_background": "light"
     },
     "output_type": "display_data"
    },
    {
     "data": {
      "image/png": "[encoded data removed]",
      "text/plain": [
       "<Figure size 432x288 with 1 Axes>"
      ]
     },
     "metadata": {
      "needs_background": "light"
     },
     "output_type": "display_data"
    }
   ],
   "source": [
    "plt.figure()\n",
    "plt.title('Population vs t')\n",
    "plt.plot(ts, theo_a, label='theoretical')\n",
    "plt.plot(ts, pop_a, label='troterization')\n",
    "plt.legend()\n",
    "plt.show()\n",
    "\n",
    "plt.figure()\n",
    "plt.title('Population vs w')\n",
    "plt.plot(ws, theo_b, label='theoretical')\n",
    "plt.plot(ws, pop_b, label='troterization')\n",
    "plt.legend()\n",
    "plt.show()\n",
    "\n",
    "plt.figure()\n",
    "plt.title('Population vs t')\n",
    "plt.plot(ts, theo_c, label='theoretical')\n",
    "plt.plot(ts, pop_c, label='troterization')\n",
    "plt.legend()\n",
    "plt.show()"
   ]
  },
  {
   "cell_type": "markdown",
   "id": "05a9ee41",
   "metadata": {},
   "source": [
    "# Exercise 7"
   ]
  },
  {
   "cell_type": "code",
   "execution_count": 10,
   "id": "5d104501",
   "metadata": {},
   "outputs": [],
   "source": [
    "pop_noise = []\n",
    "noise = cirq.ConstantQubitNoiseModel(cirq.GeneralizedAmplitudeDampingChannel(p=0.5,gamma=0.02))\n",
    "\n",
    "ts_new = np.linspace(0.2,10,100)\n",
    "\n",
    "for t in ts_new:\n",
    "    w, wo, w1 = 25.5, 25, 2\n",
    "    pop_noise.append(Troterization(w,wo,w1,t,'noise',noise))"
   ]
  },
  {
   "cell_type": "code",
   "execution_count": 11,
   "id": "2424242b",
   "metadata": {},
   "outputs": [
    {
     "data": {
      "image/png": "[encoded data removed]",
      "text/plain": [
       "<Figure size 432x288 with 1 Axes>"
      ]
     },
     "metadata": {
      "needs_background": "light"
     },
     "output_type": "display_data"
    }
   ],
   "source": [
    "plt.figure()\n",
    "plt.title('Population vs time: Noisy')\n",
    "plt.plot(ts, pop_a, label='Simulation without nosie')\n",
    "plt.plot(ts_new, pop_noise, label='Simulation with noise |1>')\n",
    "plt.plot(ts_new, 1-np.array(pop_noise), label='Simulation with noise |0>')\n",
    "plt.legend()\n",
    "plt.grid(linestyle='-', linewidth=0.2)\n",
    "plt.show()"
   ]
  },
  {
   "cell_type": "code",
   "execution_count": 12,
   "id": "2e1b8c1d",
   "metadata": {},
   "outputs": [],
   "source": [
    "ps = [0,0.5,0.9,1]\n",
    "gammas = [0,0.02,0.1]\n",
    "\n",
    "populations = np.zeros((len(ps),len(ts),len(gammas)))\n",
    "\n",
    "w, wo, w1 = 25.5, 25, 2\n",
    "\n",
    "for i, p in enumerate(ps):\n",
    "    for j, gamma in enumerate(gammas):\n",
    "        for k, t in enumerate(ts):\n",
    "            noise = cirq.ConstantQubitNoiseModel(cirq.GeneralizedAmplitudeDampingChannel(p=p,gamma=gamma))\n",
    "            populations[i,k,j] = (Troterization(w,wo,w1,t,'noise',noise))"
   ]
  },
  {
   "cell_type": "code",
   "execution_count": 13,
   "id": "cbf91c9f",
   "metadata": {},
   "outputs": [
    {
     "data": {
      "image/png": "[encoded data removed]",
      "text/plain": [
       "<Figure size 432x288 with 1 Axes>"
      ]
     },
     "metadata": {
      "needs_background": "light"
     },
     "output_type": "display_data"
    }
   ],
   "source": [
    "plt.figure()\n",
    "plt.title('Population vs time: Noisy')\n",
    "plt.plot(ts, populations[2,:,1], label='Simulation with noise |1>')\n",
    "plt.legend()\n",
    "plt.grid(linestyle='-', linewidth=0.2)\n",
    "plt.show()"
   ]
  },
  {
   "cell_type": "markdown",
   "id": "78924409",
   "metadata": {},
   "source": [
    "***Notes***:\n",
    "\n",
    "For $p = 1$ the channel reduces to the normal amplitude damping channel \\\n",
    "For $p = 0$ the channel behaves like an amplitude enhancing channel, driving the system to the $|1><1|$ state"
   ]
  },
  {
   "cell_type": "markdown",
   "id": "4a6ddc23",
   "metadata": {},
   "source": [
    "# Exercise 9:\n",
    "\n",
    "Idea: to get the state we can diagonalize the matrix, and obtain the first (and only) eigen state, that would be our initial pure state"
   ]
  },
  {
   "cell_type": "code",
   "execution_count": 32,
   "id": "7a81ec5e",
   "metadata": {},
   "outputs": [
    {
     "name": "stdout",
     "output_type": "stream",
     "text": [
      "0: ───H───T───\n",
      "Bra-ket notation for the wavefunction:\n",
      "0.71|0⟩ + (0.5+0.5j)|1⟩\n"
     ]
    }
   ],
   "source": [
    "#circuit for state tomography\n",
    "circuit9 = cirq.Circuit()\n",
    "\n",
    "qchain = cirq.LineQubit.range(1)\n",
    "q0 = qchain[0]\n",
    "T = cirq.Z**0.25\n",
    "\n",
    "ops = [cirq.H(q0), T(q0)]\n",
    "\n",
    "circuit9 = cirq.Circuit(ops)\n",
    "\n",
    "# print circuit diagram\n",
    "print(circuit9)\n",
    "\n",
    "simulator = cirq.Simulator()\n",
    "result = simulator.simulate(circuit9)\n",
    "print('Bra-ket notation for the wavefunction:')\n",
    "print(result.dirac_notation())\n"
   ]
  },
  {
   "cell_type": "code",
   "execution_count": 61,
   "id": "d9dd704c",
   "metadata": {},
   "outputs": [
    {
     "ename": "TypeError",
     "evalue": "_simulate_expectation_values_sweep_to_iter() missing 1 required positional argument: 'params'",
     "output_type": "error",
     "traceback": [
      "\u001b[0;31m---------------------------------------------------------------------------\u001b[0m",
      "\u001b[0;31mTypeError\u001b[0m                                 Traceback (most recent call last)",
      "\u001b[1;32m/Users/emiliano_gr/Desktop/Masters/Second_Semester/FOPRAS/34/Day1.ipynb Cell 19'\u001b[0m in \u001b[0;36m<cell line: 3>\u001b[0;34m()\u001b[0m\n\u001b[1;32m      <a href='vscode-notebook-cell:/Users/emiliano_gr/Desktop/Masters/Second_Semester/FOPRAS/34/Day1.ipynb#ch0000033?line=0'>1</a>\u001b[0m x \u001b[39m=\u001b[39m cirq\u001b[39m.\u001b[39mSimulatesExpectationValues()\n\u001b[1;32m      <a href='vscode-notebook-cell:/Users/emiliano_gr/Desktop/Masters/Second_Semester/FOPRAS/34/Day1.ipynb#ch0000033?line=1'>2</a>\u001b[0m ops \u001b[39m=\u001b[39m [cirq\u001b[39m.\u001b[39mH(q0), T(q0)]\n\u001b[0;32m----> <a href='vscode-notebook-cell:/Users/emiliano_gr/Desktop/Masters/Second_Semester/FOPRAS/34/Day1.ipynb#ch0000033?line=2'>3</a>\u001b[0m \u001b[39mprint\u001b[39m(x\u001b[39m.\u001b[39;49msimulate_expectation_values_sweep_iter(program\u001b[39m=\u001b[39;49mcircuit9,observables\u001b[39m=\u001b[39;49mops))\n",
      "File \u001b[0;32m~/opt/anaconda3/envs/google-quantum/lib/python3.9/site-packages/cirq/value/abc_alt.py:144\u001b[0m, in \u001b[0;36mABCMetaImplementAnyOneOf.__new__.<locals>.wrap_scope.<locals>.impl_of_abstract\u001b[0;34m(*args, **kwargs)\u001b[0m\n\u001b[1;32m    143\u001b[0m \u001b[39mdef\u001b[39;00m \u001b[39mimpl_of_abstract\u001b[39m(\u001b[39m*\u001b[39margs, \u001b[39m*\u001b[39m\u001b[39m*\u001b[39mkwargs):\n\u001b[0;32m--> 144\u001b[0m     \u001b[39mreturn\u001b[39;00m impl(\u001b[39m*\u001b[39;49margs, \u001b[39m*\u001b[39;49m\u001b[39m*\u001b[39;49mkwargs)\n",
      "\u001b[0;31mTypeError\u001b[0m: _simulate_expectation_values_sweep_to_iter() missing 1 required positional argument: 'params'"
     ]
    }
   ],
   "source": [
    "x = cirq.SimulatesExpectationValues()\n",
    "ops = [cirq.H(q0), T(q0)]\n",
    "print(x.simulate_expectation_values_sweep_iter(program=circuit9,observables=ops))"
   ]
  },
  {
   "cell_type": "code",
   "execution_count": 40,
   "id": "b427a5b8",
   "metadata": {},
   "outputs": [],
   "source": [
    "from numpy import linalg as LA"
   ]
  },
  {
   "cell_type": "code",
   "execution_count": 49,
   "id": "0f85a172",
   "metadata": {},
   "outputs": [
    {
     "name": "stdout",
     "output_type": "stream",
     "text": [
      "[[0.531-4.53246652e-17j 0.368-3.54000000e-01j]\n",
      " [0.368+3.54000000e-01j 0.469+1.11022302e-16j]]\n",
      "1.0232681998867788\n"
     ]
    },
    {
     "data": {
      "text/plain": [
       "array([0.72821635+0.j        , 0.49391783+0.47512748j])"
      ]
     },
     "execution_count": 49,
     "metadata": {},
     "output_type": "execute_result"
    }
   ],
   "source": [
    "sampler = cirq.DensityMatrixSimulator()\n",
    "result = cirq.experiments.state_tomography(sampler=sampler, qubits=qchain, circuit= circuit9)\n",
    "\n",
    "ro =  result._density_matrix\n",
    "\n",
    "print(ro)\n",
    "\n",
    "w, v = LA.eig(ro)\n",
    "\n",
    "print(abs(w[0])**2)\n",
    "v[:,0]"
   ]
  },
  {
   "cell_type": "markdown",
   "id": "da79d706",
   "metadata": {},
   "source": [
    "# Exercise 10"
   ]
  },
  {
   "cell_type": "code",
   "execution_count": 239,
   "id": "f5272918",
   "metadata": {},
   "outputs": [
    {
     "name": "stdout",
     "output_type": "stream",
     "text": [
      "0: ───RZX(0)───RXZ(0)───Rz(0)───\n",
      "      │        │\n",
      "1: ───RZX(0)───RXZ(0)───Rz(0)───\n",
      "Bra-ket notation for the wavefunction:\n",
      "|00⟩\n"
     ]
    }
   ],
   "source": [
    "\"\"\"Define a custom gate with a parameter.\"\"\"\n",
    "class RXZ(cirq.Gate):\n",
    "    def __init__(self, b):\n",
    "        super(RXZ, self)\n",
    "        self.b = b\n",
    "\n",
    "    def _num_qubits_(self):\n",
    "        return 2\n",
    "\n",
    "    def _unitary_(self):\n",
    "        return np.array([\n",
    "            [np.cos(self.b), 0.0, 1j*np.sin(self.b),  0.0],\n",
    "            [0.0,  np.cos(self.b), 0.0,  -1j*np.sin(self.b)],\n",
    "            [1j*np.sin(self.b),  0.0, np.cos(self.b),  0.0],\n",
    "            [0.0,  -1j*np.sin(self.b), 0.0, np.cos(self.b)]\n",
    "        ])\n",
    "\n",
    "    def _circuit_diagram_info_(self, args):\n",
    "        return f\"RXZ({self.b})\",  f\"RXZ({self.b})\"\n",
    "    \n",
    "class RZX(cirq.Gate):\n",
    "    def __init__(self, b):\n",
    "        super(RZX, self)\n",
    "        self.b = b\n",
    "\n",
    "    def _num_qubits_(self):\n",
    "        return 2\n",
    "\n",
    "    def _unitary_(self):\n",
    "        return np.array([\n",
    "            [np.cos(self.b), 1j*np.sin(self.b), 0.0,  0.0],\n",
    "            [1j*np.sin(self.b), np.cos(self.b), 0.0,  0.0],\n",
    "            [0.0, 0.0, np.cos(self.b), -1j*np.sin(self.b)],\n",
    "            [0.0, 0.0, -1j*np.sin(self.b), np.cos(self.b)]\n",
    "        ])\n",
    "\n",
    "    def _circuit_diagram_info_(self, args):\n",
    "        return f\"RZX({self.b})\",  f\"RZX({self.b})\"\n",
    "    \n",
    "def expXZ(b):\n",
    "    \" exp(ib(XZ)) acting on two qubits\"\n",
    "    q_chain = cirq.LineQubit.range(2)\n",
    "    rotation = cirq.Circuit()\n",
    "    rotation.append(RXZ(b=b).on(*q_chain))\n",
    "    return rotation\n",
    "\n",
    "def expZX(b):\n",
    "    \" exp(ib(ZX)) acting on two qubits\"\n",
    "    q_chain = cirq.LineQubit.range(2)\n",
    "    rotation = cirq.Circuit()\n",
    "    rotation.append(RZX(b=b).on(*q_chain))\n",
    "    return rotation\n",
    "\n",
    "\n",
    "def ansatz(a,b):\n",
    "    q_chain = cirq.LineQubit.range(2)\n",
    "    circ = cirq.Circuit()\n",
    "\n",
    "    rz = cirq.rz(-2*a)\n",
    "\n",
    "    circ.append(expZX(b))\n",
    "    circ.append(expXZ(b))\n",
    "\n",
    "    circ.append(rz(q_chain[1]))\n",
    "    circ.append(rz(q_chain[0]))\n",
    "\n",
    "    return circ\n",
    "\n",
    "ansatz_state = ansatz(0,0)\n",
    "print(ansatz_state)\n",
    "\n",
    "result = simulator.simulate(ansatz_state)\n",
    "print('Bra-ket notation for the wavefunction:')\n",
    "print(result.dirac_notation())"
   ]
  },
  {
   "cell_type": "code",
   "execution_count": 240,
   "id": "664645a6",
   "metadata": {},
   "outputs": [],
   "source": [
    "# Exercise 12\n",
    "\n",
    "alist = np.linspace(0,np.pi,20)\n",
    "blist = np.linspace(0,np.pi,20)\n",
    "\n",
    "energies = np.empty(shape=(len(alist),len(blist)))\n",
    "\n",
    "q_chain = cirq.LineQubit.range(2)\n",
    "q0 = q_chain[0]\n",
    "q1 = q_chain[1]\n",
    "\n",
    "\n",
    "for i, a in enumerate(alist):\n",
    "    for j, b in enumerate(blist):\n",
    "        energies[i,j] = simulator.simulate_expectation_values(ansatz(a,b), observables=-cirq.Z(q0)*cirq.X(q1)-cirq.X(q0)*cirq.Z(q1) )[0].real"
   ]
  },
  {
   "cell_type": "code",
   "execution_count": 241,
   "id": "0fd490b6",
   "metadata": {},
   "outputs": [
    {
     "data": {
      "image/png": "[encoded data removed]",
      "text/plain": [
       "<Figure size 432x288 with 2 Axes>"
      ]
     },
     "metadata": {
      "needs_background": "light"
     },
     "output_type": "display_data"
    }
   ],
   "source": [
    "import matplotlib.pyplot as plt\n",
    "\n",
    "pos = plt.imshow(energies, cmap='hot', interpolation='nearest')\n",
    "\n",
    "plt.title('Energies')\n",
    "plt.ylabel('a')\n",
    "plt.xlabel('b')\n",
    "plt.colorbar(pos)\n",
    "\n",
    "plt.show()"
   ]
  },
  {
   "cell_type": "code",
   "execution_count": 247,
   "id": "147ca0b3",
   "metadata": {},
   "outputs": [
    {
     "name": "stdout",
     "output_type": "stream",
     "text": [
      "The smallest energy is:  -1.986361026763916\n",
      "105\n",
      "Indices for the arrays are: (i: 5 and j: 5) \n",
      "Values for the indices are: (a: 0.8267349088394192 and b: 0.8267349088394192) \n"
     ]
    }
   ],
   "source": [
    "print(\"The smallest energy is: \", np.amin(energies))\n",
    "arg = np.argmin(energies)\n",
    "print(arg)\n",
    "b= arg%20\n",
    "a= (arg-b)//20\n",
    "print(\"Indices for the arrays are: (i: {} and j: {}) \".format(a,b) )\n",
    "print(\"Values for the indices are: (a: {} and b: {}) \".format(alist[a],blist[b]) )"
   ]
  },
  {
   "cell_type": "code",
   "execution_count": 250,
   "id": "6248ace8",
   "metadata": {},
   "outputs": [
    {
     "name": "stdout",
     "output_type": "stream",
     "text": [
      "(array([ 5, 14]), array([ 5, 14]))\n"
     ]
    }
   ],
   "source": [
    "print(np.where(energies == energies.min()))"
   ]
  },
  {
   "cell_type": "code",
   "execution_count": 251,
   "id": "f9769abd",
   "metadata": {},
   "outputs": [
    {
     "data": {
      "text/plain": [
       "-1.986361026763916"
      ]
     },
     "execution_count": 251,
     "metadata": {},
     "output_type": "execute_result"
    }
   ],
   "source": [
    "\n",
    "\n",
    "test =simulator.simulate_expectation_values(ansatz(alist[14],alist[14]), observables=-cirq.Z(q0)*cirq.X(q1)-cirq.X(q0)*cirq.Z(q1) )[0].real\n",
    "test"
   ]
  },
  {
   "cell_type": "code",
   "execution_count": 255,
   "id": "857fd652",
   "metadata": {},
   "outputs": [
    {
     "name": "stdout",
     "output_type": "stream",
     "text": [
      "0: ───RZX(0.8267349088394192)───RXZ(0.8267349088394192)───Rz(-0.526π)───\n",
      "      │                         │\n",
      "1: ───RZX(0.8267349088394192)───RXZ(0.8267349088394192)───Rz(-0.526π)───\n",
      "Bra-ket notation for the wavefunction:\n",
      "(-0.04+0.46j)|00⟩ + 0.5j|01⟩ + 0.5j|10⟩ + (-0.04-0.54j)|11⟩\n"
     ]
    }
   ],
   "source": [
    "#13\n",
    "gs = ansatz(alist[a],blist[b])\n",
    "print(gs)\n",
    "\n",
    "result = simulator.simulate(gs)\n",
    "print('Bra-ket notation for the wavefunction:')\n",
    "print(result.dirac_notation())\n",
    "\n",
    "#correct up to a global phase of e^(ipi/2)"
   ]
  },
  {
   "cell_type": "markdown",
   "id": "f6905ced",
   "metadata": {},
   "source": [
    "# Not used:"
   ]
  },
  {
   "cell_type": "code",
   "execution_count": null,
   "id": "49ab5aec",
   "metadata": {},
   "outputs": [],
   "source": [
    "def Troterization_noise(w,wo,w1,t):\n",
    "    \n",
    "    noise = cirq.ConstantQubitNoiseModel(cirq.GeneralizedAmplitudeDampingChannel(p=0.9,gamma=0.02))\n",
    "    \n",
    "    troter = U(w,wo,w1,t)\n",
    "    \n",
    "    reps = 10000\n",
    "    \n",
    "    troter.append(cirq.measure(q_chain[0]))\n",
    "    result = cirq.sample(program=troter, noise=noise, repetitions=reps) # type(result) = <class 'cirq.study.result.ResultDict'>\n",
    "    \n",
    "    # other keys don't seem to work\n",
    "    # type(histogram) = <class 'collections.Counter'>\n",
    "    histogram = result.histogram(key = '0') \n",
    "    \n",
    "    # _ = cirq.plot_state_histogram(histogram, plt.subplot())\n",
    "    # plt.show()\n",
    "\n",
    "    # population for state |1> := prob(measurement=1)\n",
    "    population = histogram[1]/reps\n",
    "    "
   ]
  }
 ],
 "metadata": {
  "kernelspec": {
   "display_name": "google-quantum",
   "language": "python",
   "name": "google-quantum"
  },
  "language_info": {
   "codemirror_mode": {
    "name": "ipython",
    "version": 3
   },
   "file_extension": ".py",
   "mimetype": "text/x-python",
   "name": "python",
   "nbconvert_exporter": "python",
   "pygments_lexer": "ipython3",
   "version": "3.9.12"
  }
 },
 "nbformat": 4,
 "nbformat_minor": 5
}
