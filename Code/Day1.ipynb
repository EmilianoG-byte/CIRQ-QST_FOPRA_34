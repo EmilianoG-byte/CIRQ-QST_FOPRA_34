{
 "cells": [
  {
   "cell_type": "code",
   "execution_count": 19,
   "id": "d7070816",
   "metadata": {},
   "outputs": [],
   "source": [
    "import cirq\n",
    "import numpy as np\n",
    "import matplotlib.pyplot as plt\n",
    "# import cirq_google\n",
    "from numpy import linalg as LA\n",
    "from math import log, e\n",
    "\n",
    "# print the supremacy chip\n",
    "#print(cirq_google.Sycamore)"
   ]
  },
  {
   "cell_type": "code",
   "execution_count": 20,
   "id": "6ce7c995",
   "metadata": {},
   "outputs": [
    {
     "name": "stdout",
     "output_type": "stream",
     "text": [
      "0: ───H───────────\n",
      "\n",
      "1: ───H───@───H───\n",
      "          │\n",
      "2: ───────X───────\n"
     ]
    }
   ],
   "source": [
    "# These are three qubits on a line\n",
    "qubits = cirq.LineQubit.range(3)\n",
    "a = qubits[0]\n",
    "b = qubits[1]\n",
    "c = qubits[2]\n",
    "\n",
    "# This is a collection of operations\n",
    "# Each operation is a gate\n",
    "ops = [cirq.H(a), cirq.H(b), cirq.CNOT(b, c), cirq.H(b)]\n",
    "circuit = cirq.Circuit(ops)\n",
    "\n",
    "# print circuit diagram\n",
    "print(circuit)"
   ]
  },
  {
   "cell_type": "code",
   "execution_count": 21,
   "id": "ac09ccfd",
   "metadata": {},
   "outputs": [
    {
     "name": "stdout",
     "output_type": "stream",
     "text": [
      "0: ───H───@───Z───\n",
      "          │\n",
      "1: ───────X───X───\n",
      "Bra-ket notation for the wavefunction:\n",
      "0.71|01⟩ - 0.71|10⟩\n"
     ]
    }
   ],
   "source": [
    "def Bell(n):\n",
    "    q_chain = cirq.LineQubit.range(2)\n",
    "    bell = cirq.Circuit()\n",
    "\n",
    "    bell.append(cirq.H(q_chain[0]))\n",
    "    bell.append(cirq.CNOT(q_chain[0],q_chain[1]))\n",
    "    \n",
    "    if n == 1:\n",
    "        return bell\n",
    "    elif n==2:\n",
    "        bell.append(cirq.Z(q_chain[1]))\n",
    "        return bell\n",
    "    elif n==3:\n",
    "        bell.append(cirq.X(q_chain[1]))\n",
    "        return bell\n",
    "    elif n==4:\n",
    "        bell.append(cirq.X(q_chain[1]))\n",
    "        bell.append(cirq.Z(q_chain[0]))\n",
    "        return bell\n",
    "\n",
    "bell = Bell(4)\n",
    "print(bell) #1:\n",
    "\n",
    "simulator = cirq.Simulator()\n",
    "result = simulator.simulate(bell)\n",
    "print('Bra-ket notation for the wavefunction:')\n",
    "print(result.dirac_notation())"
   ]
  },
  {
   "cell_type": "markdown",
   "id": "3a7f0580",
   "metadata": {},
   "source": [
    "# Exercise 4"
   ]
  },
  {
   "cell_type": "code",
   "execution_count": 22,
   "id": "efd6f4dc",
   "metadata": {},
   "outputs": [
    {
     "name": "stdout",
     "output_type": "stream",
     "text": [
      "\n",
      " 0: ───Ry(0.381π)───────@───H───M───@───────\n",
      "                       │       │   │\n",
      "1: ───H────────────@───X───────M───┼───@───\n",
      "                   │               │   │\n",
      "2: ────────────────X───────────────@───X─── \n",
      "\n",
      "First qubit state after preparation \t System state after teleportation\n",
      "0.83|0⟩ + 0.56|1⟩ \t\t\t 0.83|010⟩ + 0.56|011⟩\n",
      "First qubit state after preparation \t System state after teleportation\n",
      "0.83|0⟩ + 0.56|1⟩ \t\t\t -0.83|110⟩ - 0.56|111⟩\n",
      "First qubit state after preparation \t System state after teleportation\n",
      "0.83|0⟩ + 0.56|1⟩ \t\t\t 0.83|010⟩ + 0.56|011⟩\n",
      "First qubit state after preparation \t System state after teleportation\n",
      "0.83|0⟩ + 0.56|1⟩ \t\t\t 0.83|000⟩ + 0.56|001⟩\n"
     ]
    }
   ],
   "source": [
    "import random\n",
    "from math import pi \n",
    "\n",
    "random.seed(41)\n",
    "\n",
    "# qubit order:\n",
    "# Message\n",
    "# Alice\n",
    "# Bob\n",
    "\n",
    "# creating basics of circuit\n",
    "qubits = 3\n",
    "q_chain = cirq.LineQubit.range(qubits)\n",
    "preparation = cirq.Circuit()\n",
    "teleportation = cirq.Circuit()\n",
    "message = q_chain[0]\n",
    "alice = q_chain[1]\n",
    "bob = q_chain[2]\n",
    "\n",
    "# preparing the random state on qubit 0 and the Bell state on qubit 2 and 3\n",
    "\n",
    "t = pi*random.uniform(0, 1)\n",
    "\n",
    "gate = cirq.ry(t)\n",
    "\n",
    "preparation.append(gate(message))\n",
    "teleportation.append(gate(message))\n",
    "\n",
    "teleportation.append(cirq.H(alice))\n",
    "teleportation.append(cirq.CNOT(alice,bob))\n",
    "\n",
    "# teleportation measurement and correction\n",
    "\n",
    "teleportation.append(cirq.CNOT(message,alice))\n",
    "teleportation.append(cirq.H(message))\n",
    "\n",
    "teleportation.append(cirq.measure(message,alice))\n",
    "\n",
    "teleportation.append(cirq.CZ(message,bob))\n",
    "teleportation.append(cirq.CNOT(alice,bob))\n",
    "            \n",
    "print('\\n', teleportation, '\\n')\n",
    "            \n",
    "simulator = cirq.Simulator()\n",
    "\n",
    "trials = 4\n",
    "\n",
    "for i in range(trials):\n",
    "\tpreparation_result = simulator.simulate(preparation)\n",
    "\tteleportation_result = simulator.simulate(teleportation)\n",
    "\n",
    "\tprint('First qubit state after preparation \\t System state after teleportation')\n",
    "\tprint(preparation_result.dirac_notation(), '\\t\\t\\t' ,teleportation_result.dirac_notation())"
   ]
  },
  {
   "cell_type": "code",
   "execution_count": 23,
   "id": "a6badde3",
   "metadata": {},
   "outputs": [
    {
     "name": "stdout",
     "output_type": "stream",
     "text": [
      "0: ───Ry(0.639π)───\n",
      "Bra-ket notation for the wavefunction:\n",
      "0.54|0⟩ + 0.84|1⟩\n"
     ]
    }
   ],
   "source": [
    "random.seed(42)\n",
    "\n",
    "q_chain = cirq.LineQubit.range(1)\n",
    "message_test = cirq.Circuit()\n",
    "\n",
    "t = pi*random.uniform(0, 1)\n",
    "\n",
    "gate = cirq.ry(t)\n",
    "\n",
    "message_test.append(gate(message))\n",
    "\n",
    "print(message_test)\n",
    "simulator = cirq.Simulator()\n",
    "result = simulator.simulate(message_test)\n",
    "print('Bra-ket notation for the wavefunction:')\n",
    "print(result.dirac_notation())\n"
   ]
  },
  {
   "cell_type": "markdown",
   "id": "2cf32d56",
   "metadata": {},
   "source": [
    "# Exercise 6:"
   ]
  },
  {
   "cell_type": "code",
   "execution_count": 24,
   "id": "a3e017fe",
   "metadata": {},
   "outputs": [],
   "source": [
    "from numpy import cos, sin\n",
    "from math import sqrt\n",
    "import matplotlib.pyplot as plt \n",
    "\n",
    "def Population(w,wo,w1,t):\n",
    "\tOmega = sqrt(w1**2 + (w-wo)**2)\n",
    "\tpopulation = (w1*sin(Omega*t/2)/Omega)**2\n",
    "\treturn population\n",
    "\n",
    "def U(w,wo,w1,t,dt):\n",
    "\tq_chain = cirq.LineQubit.range(1)\n",
    "\ttroter = cirq.Circuit()\n",
    "\n",
    "\tN = int(t/dt)\n",
    "\t\n",
    "\tthetaz = -wo*dt\n",
    "\tthetax = 2*w1*dt\n",
    "\t\n",
    "\tfor n in range(N):\n",
    "\t\trx = cirq.rx(thetax*cos(w*n*dt))\n",
    "\t\trz = cirq.rz(thetaz)\n",
    "\t\ttroter.append(rz(q_chain[0]))\n",
    "\t\ttroter.append(rx(q_chain[0]))        \n",
    "\treturn troter, q_chain\n",
    "\n",
    "\n",
    "def Troterization(w,wo,w1,t,dt, mode='simulate', noise=''):\n",
    "\t\n",
    "\treps = 10000\n",
    "\ttroter, q_chain = U(w,wo,w1,t,dt)\n",
    "\tsimulator = cirq.Simulator()\n",
    "\n",
    "\tif mode == 'tomography':\n",
    "\t\tsampler = cirq.DensityMatrixSimulator()\n",
    "\n",
    "\t\tresult = cirq.experiments.state_tomography(sampler=sampler, qubits=q_chain, circuit= troter, repetitions=reps)\n",
    "\n",
    "\t\trho =  result._density_matrix\n",
    "\t\tpopulation = abs(rho[1,1])**2\n",
    "\t\treturn population \n",
    "\t\n",
    "\tif mode == 'run':\n",
    "\n",
    "\t\ttroter.append(cirq.measure(q_chain[0], key='0'))\n",
    "\t\tresult = simulator.run(troter, repetitions=reps)\n",
    "\t\tcounts = result.histogram(key = '0') \n",
    "\t\t# population for state |1> := prob(measurement=1)\n",
    "\t\tpopulation = counts[1]/reps\n",
    "\t\treturn population\n",
    "\telif mode == 'simulate':\n",
    "\t\tresult = simulator.simulate(troter)\n",
    "\t\t#print('Bra-ket notation for the wavefunction:')\n",
    "\t\t#print(result.dirac_notation())\n",
    "\t\t#print('Population of state |1>')\n",
    "\t\tpopulation = abs(result.final_state_vector[-1])**2\n",
    "\t\t#print(np.around(population, 3))\n",
    "\t\treturn population\n",
    "\t\t\n",
    "\telif mode == 'noise':\n",
    "\t\ttroter.append(cirq.measure(q_chain[0], key='0'))\n",
    "\t\tresult = cirq.sample(program=troter, noise=noise, repetitions=reps) # type(result) = <class 'cirq.study.result.ResultDict'>\n",
    "\t\t# type(histogram) = <class 'collections.Counter'>\n",
    "\t\tcounts = result.histogram(key = '0') \n",
    "\t\t# population for state |1> := prob(measurement=1)\n",
    "\t\tpopulation = counts[1]/reps\n",
    "\t\treturn population\n",
    "\t\n",
    "\telse:\n",
    "\t\traise Exception('Not a valid mode: {}'.format(mode))"
   ]
  },
  {
   "cell_type": "code",
   "execution_count": 25,
   "id": "a45c7f96",
   "metadata": {},
   "outputs": [],
   "source": [
    "# ts = np.linspace(0.2,4,100)\n",
    "t = 4\n",
    "dt = 0.05\n",
    "ts = np.linspace(0, t, int(t/dt))\n",
    "\n",
    "pop_a = []\n",
    "theo_a = []\n",
    "for t in ts:\n",
    "    w, wo, w1 = 25.5, 25, 2\n",
    "    theo_a.append(Population(w,wo,w1,t))\n",
    "    pop_a.append(Troterization(w,wo,w1,t,dt,'run'))\n",
    "    \n",
    "ws = np.arange(10,40,0.2)\n",
    "pop_b = []\n",
    "theo_b = []\n",
    "for w in ws:\n",
    "    wo, w1 = 25, 2\n",
    "    t = pi/w1\n",
    "    theo_b.append(Population(w,wo,w1,t))\n",
    "    pop_b.append(Troterization(w,wo,w1,t,dt,'run'))\n",
    "\n",
    "t = 4\n",
    "dt = 0.05\n",
    "timeIntervals2 = np.linspace(0, t, int(t/dt))\n",
    "\n",
    "pop_c = []\n",
    "theo_c = []\n",
    "for t in timeIntervals2:\n",
    "    w, w0, w1 = 2, 2, 2\n",
    "    theo_c.append(Population(w,w0,w1,t))\n",
    "    pop_c.append(Troterization(w,w0,w1,t,dt,'run'))\n",
    "\n",
    "t = 1.4\n",
    "dt = 0.05\n",
    "timeIntervals3 = np.linspace(0, t, int(t/dt))\n",
    "\n",
    "pop_d = []\n",
    "theo_d = []\n",
    "for t in timeIntervals3:\n",
    "    w, w0, w1 = 3, 1, 6\n",
    "    theo_d.append(Population(w,w0,w1,t))\n",
    "    pop_d.append(Troterization(w,w0,w1,t,dt,'run'))"
   ]
  },
  {
   "cell_type": "code",
   "execution_count": 26,
   "id": "3533a581",
   "metadata": {},
   "outputs": [
    {
     "data": {
      "image/png": "[encoded data removed]",
      "text/plain": [
       "<Figure size 432x288 with 1 Axes>"
      ]
     },
     "metadata": {
      "needs_background": "light"
     },
     "output_type": "display_data"
    },
    {
     "data": {
      "image/png": "[encoded data removed]",
      "text/plain": [
       "<Figure size 432x288 with 1 Axes>"
      ]
     },
     "metadata": {
      "needs_background": "light"
     },
     "output_type": "display_data"
    },
    {
     "data": {
      "image/png": "[encoded data removed]",
      "text/plain": [
       "<Figure size 432x288 with 1 Axes>"
      ]
     },
     "metadata": {
      "needs_background": "light"
     },
     "output_type": "display_data"
    },
    {
     "data": {
      "image/png": "[encoded data removed]",
      "text/plain": [
       "<Figure size 432x288 with 1 Axes>"
      ]
     },
     "metadata": {
      "needs_background": "light"
     },
     "output_type": "display_data"
    }
   ],
   "source": [
    "plt.figure()\n",
    "plt.xlabel(r'Time t')\n",
    "plt.ylabel(r'Population $|\\beta(t)|^2$')\n",
    "plt.plot(ts, theo_a, 'gray', label='Analytical')\n",
    "plt.plot(ts, pop_a, 'green', label='Trotterization')\n",
    "plt.ylim(-0.02, 1.02)\n",
    "plt.legend()\n",
    "plt.savefig(\"exercise06_01.png\")\n",
    "plt.show()\n",
    "\n",
    "plt.figure()\n",
    "plt.xlabel(r'Detuning $\\Delta$')\n",
    "plt.ylabel(r'Population $|\\beta(t)|^2')\n",
    "plt.plot(ws, theo_b, 'gray', label='Analytical')\n",
    "plt.plot(ws, pop_b, 'royalblue', label='Trotterization')\n",
    "plt.ylim(-0.02, 1.02)\n",
    "plt.legend()\n",
    "plt.savefig(\"exercise06_02.png\")\n",
    "plt.show()\n",
    "\n",
    "plt.figure()\n",
    "plt.xlabel(r'Time t')\n",
    "plt.ylabel(r'Population $|\\beta(t)|^2')\n",
    "plt.plot(timeIntervals2, theo_c, 'gray', label='Analytical')\n",
    "plt.plot(timeIntervals2, pop_c, 'darkred', label='Trotterization')\n",
    "plt.ylim(-0.02, 1.02)\n",
    "plt.legend()\n",
    "plt.savefig(\"exercise06_03.png\")\n",
    "plt.show()\n",
    "\n",
    "plt.figure()\n",
    "plt.xlabel(r'Time t')\n",
    "plt.ylabel(r'Population $|\\beta(t)|^2)')\n",
    "plt.plot(timeIntervals3, theo_d, 'gray', label='Analytical')\n",
    "plt.plot(timeIntervals3, pop_d, 'darkred', label='Trotterization')\n",
    "plt.ylim(-0.02, 1.02)\n",
    "plt.legend()\n",
    "plt.savefig(\"exercise06_04.png\")\n",
    "plt.show()"
   ]
  },
  {
   "cell_type": "markdown",
   "id": "05a9ee41",
   "metadata": {},
   "source": [
    "# Exercise 7"
   ]
  },
  {
   "cell_type": "code",
   "execution_count": 27,
   "id": "5d104501",
   "metadata": {},
   "outputs": [],
   "source": [
    "pop_noise = []\n",
    "noise = cirq.ConstantQubitNoiseModel(cirq.GeneralizedAmplitudeDampingChannel(p=0.5,gamma=0.02))\n",
    "\n",
    "ts_new = np.linspace(0.2,10,100)\n",
    "dt = 0.05\n",
    "\n",
    "for t in ts_new:\n",
    "    w, wo, w1 = 25.5, 25, 2\n",
    "    pop_noise.append(Troterization(w,wo,w1,t,dt,'noise',noise))"
   ]
  },
  {
   "cell_type": "code",
   "execution_count": 29,
   "id": "2424242b",
   "metadata": {},
   "outputs": [
    {
     "data": {
      "image/png": "[encoded data removed]",
      "text/plain": [
       "<Figure size 432x288 with 1 Axes>"
      ]
     },
     "metadata": {
      "needs_background": "light"
     },
     "output_type": "display_data"
    }
   ],
   "source": [
    "plt.figure()\n",
    "plt.title('Population vs time: Noisy')\n",
    "plt.plot(ts, pop_a, label='Simulation without nosie')\n",
    "plt.plot(ts_new, pop_noise, label='Simulation with noise |1>')\n",
    "plt.plot(ts_new, 1-np.array(pop_noise), label='Simulation with noise |0>')\n",
    "plt.legend()\n",
    "plt.grid(linestyle='-', linewidth=0.2)\n",
    "plt.show()"
   ]
  },
  {
   "cell_type": "code",
   "execution_count": 31,
   "id": "2e1b8c1d",
   "metadata": {},
   "outputs": [],
   "source": [
    "ps = [0,0.5,0.9,1]\n",
    "gammas = [0,0.02,0.1]\n",
    "\n",
    "populations = np.zeros((len(ps),len(ts),len(gammas)))\n",
    "\n",
    "dt = 0.05\n",
    "w, wo, w1 = 25.5, 25, 2\n",
    "\n",
    "for i, p in enumerate(ps):\n",
    "    for j, gamma in enumerate(gammas):\n",
    "        for k, t in enumerate(ts):\n",
    "            noise = cirq.ConstantQubitNoiseModel(cirq.GeneralizedAmplitudeDampingChannel(p=p,gamma=gamma))\n",
    "            populations[i,k,j] = (Troterization(w,wo,w1,t,dt,'noise',noise))"
   ]
  },
  {
   "cell_type": "code",
   "execution_count": 32,
   "id": "cbf91c9f",
   "metadata": {},
   "outputs": [
    {
     "data": {
      "image/png": "[encoded data removed]",
      "text/plain": [
       "<Figure size 432x288 with 1 Axes>"
      ]
     },
     "metadata": {
      "needs_background": "light"
     },
     "output_type": "display_data"
    }
   ],
   "source": [
    "plt.figure()\n",
    "plt.title('Population vs time: Noisy')\n",
    "plt.plot(ts, populations[2,:,1], label='Simulation with noise |1>')\n",
    "plt.legend()\n",
    "plt.grid(linestyle='-', linewidth=0.2)\n",
    "plt.show()"
   ]
  },
  {
   "cell_type": "markdown",
   "id": "78924409",
   "metadata": {},
   "source": [
    "***Notes***:\n",
    "\n",
    "For $p = 1$ the channel reduces to the normal amplitude damping channel \\\n",
    "For $p = 0$ the channel behaves like an amplitude enhancing channel, driving the system to the $|1><1|$ state"
   ]
  },
  {
   "cell_type": "markdown",
   "id": "9efca6bc",
   "metadata": {},
   "source": [
    "# Exercise 8:"
   ]
  },
  {
   "cell_type": "code",
   "execution_count": 33,
   "id": "8041d4dd",
   "metadata": {},
   "outputs": [
    {
     "name": "stdout",
     "output_type": "stream",
     "text": [
      "0: ───H───T───M('0')───\n",
      "Counter({0: 500488, 1: 499512})\n",
      "0: ───H───T───H───M('0')───\n",
      "Counter({0: 853353, 1: 146647})\n",
      "0: ───H───T───S^-1───H───M('0')───\n",
      "Counter({0: 853353, 1: 146647})\n",
      "Expectation value of Z gate:  0.000976\n",
      "Expectation value of X gate:  0.706706\n",
      "Expectation value of Y gate:  0.706706\n"
     ]
    }
   ],
   "source": [
    "\n",
    "def Expectation(prepare='', ops='', reps=int(1e6), debug=False):\n",
    "\n",
    "    \"\"\" \n",
    "    prepare: gates to prepare initial state\n",
    "    ops: operators to change the Z measurement basis into another basis\n",
    "    examples: \n",
    "    - for measurement in X basis: H    \n",
    "    - for measurement in Y basis: Sdagger, H\n",
    "    \"\"\"\n",
    "\n",
    "    qubits = cirq.LineQubit.range(1)\n",
    "    q0 = qubits[0]\n",
    "\n",
    "    simulator = cirq.Simulator(seed=np.random.seed(2))\n",
    "    measurement_op = cirq.Circuit()\n",
    "\n",
    "    if prepare:\n",
    "        measurement_op.append(p(q0) for p in prepare)\n",
    "    if ops:\n",
    "        measurement_op.append(p(q0) for p in ops)\n",
    "\n",
    "    measurement_op.append(cirq.measure(q0, key='0'))\n",
    "\n",
    "    if debug:\n",
    "        print(measurement_op)\n",
    "\n",
    "    result = simulator.run(measurement_op, repetitions = reps)\n",
    "    counts = result.histogram(key = '0')\n",
    "\n",
    "    print(counts)\n",
    "\n",
    "    N0, N1 = counts[0], counts[1]\n",
    "\n",
    "    return (N0-N1)/reps\n",
    "\n",
    "\n",
    "prepare = [cirq.H, cirq.T]\n",
    "\n",
    "ops_X = [cirq.H]\n",
    "ops_Y = [cirq.S**-1, cirq.H]\n",
    "\n",
    "EZ = Expectation(prepare, debug=True)\n",
    "EX = Expectation(prepare, ops_X, debug=True)\n",
    "EY = Expectation(prepare, ops_Y, debug=True)\n",
    "\n",
    "print('Expectation value of Z gate: ', EZ)\n",
    "print('Expectation value of X gate: ', EX)\n",
    "print('Expectation value of Y gate: ', EY)\n"
   ]
  },
  {
   "cell_type": "markdown",
   "id": "4a6ddc23",
   "metadata": {},
   "source": [
    "# Exercise 9:\n",
    "\n",
    "Idea: to get the state we can diagonalize the matrix, and obtain the first (and only) eigen state, that would be our initial pure state"
   ]
  },
  {
   "cell_type": "code",
   "execution_count": 34,
   "id": "c860016d",
   "metadata": {},
   "outputs": [
    {
     "name": "stdout",
     "output_type": "stream",
     "text": [
      "[[0.500488+0.j       0.353353-0.353353j]\n",
      " [0.353353+0.353353j 0.499512+0.j      ]]\n",
      "0.9994337665462171\n"
     ]
    },
    {
     "data": {
      "text/plain": [
       "array([0.70745196+0.j       , 0.4997558 +0.4997558j])"
      ]
     },
     "execution_count": 34,
     "metadata": {},
     "output_type": "execute_result"
    }
   ],
   "source": [
    "# calculating the c_i for the density matrix\n",
    "\n",
    "rho_tomo = 0.5*np.eye(2, dtype = np.complex128)\n",
    "\n",
    "Es = [EZ, EX, EY] # list of expectation values\n",
    "\n",
    "paulis = [cirq.Z, cirq.X, cirq.Y] # list of pauli gates\n",
    "paulis_matrices = [cirq.unitary(P) for P in paulis] # list of pauli gates as numpy arrays\n",
    "\n",
    "for i in range(3):\n",
    "     c = 0.5*Es[i]\n",
    "     rho_tomo += c*paulis_matrices[i]\n",
    "    \n",
    "print(rho_tomo)\n",
    "\n",
    "w_tomo, v_tomo = LA.eig(rho_tomo)\n",
    "\n",
    "print(abs(w_tomo[0])**2)\n",
    "v_tomo[:,0]"
   ]
  },
  {
   "cell_type": "code",
   "execution_count": 35,
   "id": "7a81ec5e",
   "metadata": {},
   "outputs": [
    {
     "name": "stdout",
     "output_type": "stream",
     "text": [
      "0: ───H───T───\n",
      "Bra-ket notation for the wavefunction:\n",
      "0.71|0⟩ + (0.5+0.5j)|1⟩\n",
      "[[0.499299-2.26623326e-17j 0.353993-3.53156000e-01j]\n",
      " [0.353993+3.53156000e-01j 0.500701+5.55111512e-17j]]\n",
      "(0.49929899999999994-2.2662332591841973e-17j)\n",
      "9.421734375406304e-10\n"
     ]
    },
    {
     "data": {
      "text/plain": [
       "array([ 0.70760226+0.j        , -0.50024045-0.49905765j])"
      ]
     },
     "execution_count": 35,
     "metadata": {},
     "output_type": "execute_result"
    }
   ],
   "source": [
    "#circuit for state tomography\n",
    "sampler = cirq.DensityMatrixSimulator()\n",
    "\n",
    "qchain = cirq.LineQubit.range(1)\n",
    "q0 = qchain[0]\n",
    "\n",
    "ops = [cirq.H(q0), cirq.T(q0)]\n",
    "\n",
    "circuit9 = cirq.Circuit(ops)\n",
    "\n",
    "# print circuit diagram\n",
    "print(circuit9)\n",
    "\n",
    "simulator = cirq.Simulator()\n",
    "result = simulator.simulate(circuit9)\n",
    "print('Bra-ket notation for the wavefunction:')\n",
    "print(result.dirac_notation())\n",
    "\n",
    "result = cirq.experiments.state_tomography(sampler=sampler, qubits=qchain, circuit= circuit9, repetitions=1000000)\n",
    "\n",
    "rho =  result._density_matrix\n",
    "\n",
    "print(rho)\n",
    "print(rho[0,0])\n",
    "\n",
    "\n",
    "w_function, v_function = LA.eig(rho)\n",
    "\n",
    "print(abs(w_function[0])**2)\n",
    "v_function[:,0]"
   ]
  },
  {
   "cell_type": "code",
   "execution_count": 36,
   "id": "b4590f08",
   "metadata": {},
   "outputs": [
    {
     "name": "stdout",
     "output_type": "stream",
     "text": [
      "0.0019298341897688316\n"
     ]
    }
   ],
   "source": [
    "# comparison:\n",
    "print(LA.norm(rho_tomo - rho))"
   ]
  },
  {
   "cell_type": "markdown",
   "id": "da79d706",
   "metadata": {},
   "source": [
    "# Exercise 10"
   ]
  },
  {
   "cell_type": "code",
   "execution_count": 38,
   "id": "ce9e7d81",
   "metadata": {},
   "outputs": [],
   "source": [
    "dt = 0.05\n",
    "ts_10 = np.linspace(0.2,2,100)\n",
    "pop_10 = []\n",
    "theo_10 = []\n",
    "for t in ts_10:\n",
    "    w, wo, w1 = 25.5, 25, 2\n",
    "    theo_10.append(Population(w,wo,w1,t))\n",
    "    pop_10.append(Troterization(w,wo,w1,t,dt,'tomography'))"
   ]
  },
  {
   "cell_type": "code",
   "execution_count": 39,
   "id": "4f461c8e",
   "metadata": {},
   "outputs": [
    {
     "data": {
      "image/png": "[encoded data removed]",
      "text/plain": [
       "<Figure size 432x288 with 1 Axes>"
      ]
     },
     "metadata": {
      "needs_background": "light"
     },
     "output_type": "display_data"
    }
   ],
   "source": [
    "plt.figure()\n",
    "plt.title('Population of |1> vs t')\n",
    "plt.plot(ts_10, np.array(theo_10), label='theoretical')\n",
    "plt.plot(ts_10, pop_10, label='Tomography')\n",
    "plt.legend()\n",
    "plt.show()"
   ]
  },
  {
   "cell_type": "markdown",
   "id": "8ff800ff",
   "metadata": {},
   "source": [
    "# Exercise 11:"
   ]
  },
  {
   "cell_type": "code",
   "execution_count": 40,
   "id": "f5272918",
   "metadata": {},
   "outputs": [
    {
     "name": "stdout",
     "output_type": "stream",
     "text": [
      "0: ───RZX(1.5707963267948966)───RXZ(1.5707963267948966)───Rz(-π)───\n",
      "      │                         │\n",
      "1: ───RZX(1.5707963267948966)───RXZ(1.5707963267948966)───Rz(-π)───\n",
      "Bra-ket notation for the wavefunction:\n",
      "-1|11⟩\n"
     ]
    }
   ],
   "source": [
    "\"\"\"Define a custom gate with a parameter.\"\"\"\n",
    "class RXZ(cirq.Gate):\n",
    "    def __init__(self, b):\n",
    "        super(RXZ, self)\n",
    "        self.b = b\n",
    "\n",
    "    def _num_qubits_(self):\n",
    "        return 2\n",
    "\n",
    "    def _unitary_(self):\n",
    "        return np.array([\n",
    "            [np.cos(self.b), 0.0, 1j*np.sin(self.b),  0.0],\n",
    "            [0.0,  np.cos(self.b), 0.0,  -1j*np.sin(self.b)],\n",
    "            [1j*np.sin(self.b),  0.0, np.cos(self.b),  0.0],\n",
    "            [0.0,  -1j*np.sin(self.b), 0.0, np.cos(self.b)]\n",
    "        ])\n",
    "\n",
    "    def _circuit_diagram_info_(self, args):\n",
    "        return f\"RXZ({self.b})\",  f\"RXZ({self.b})\"\n",
    "    \n",
    "class RZX(cirq.Gate):\n",
    "    def __init__(self, b):\n",
    "        super(RZX, self)\n",
    "        self.b = b\n",
    "\n",
    "    def _num_qubits_(self):\n",
    "        return 2\n",
    "\n",
    "    def _unitary_(self):\n",
    "        return np.array([\n",
    "            [np.cos(self.b), 1j*np.sin(self.b), 0.0,  0.0],\n",
    "            [1j*np.sin(self.b), np.cos(self.b), 0.0,  0.0],\n",
    "            [0.0, 0.0, np.cos(self.b), -1j*np.sin(self.b)],\n",
    "            [0.0, 0.0, -1j*np.sin(self.b), np.cos(self.b)]\n",
    "        ])\n",
    "\n",
    "    def _circuit_diagram_info_(self, args):\n",
    "        return f\"RZX({self.b})\",  f\"RZX({self.b})\"\n",
    "    \n",
    "def expXZ(b):\n",
    "    \" exp(ib(XZ)) acting on two qubits\"\n",
    "    q_chain = cirq.LineQubit.range(2)\n",
    "    rotation = cirq.Circuit()\n",
    "    rotation.append(RXZ(b=b).on(*q_chain))\n",
    "    return rotation\n",
    "\n",
    "def expZX(b):\n",
    "    \" exp(ib(ZX)) acting on two qubits\"\n",
    "    q_chain = cirq.LineQubit.range(2)\n",
    "    rotation = cirq.Circuit()\n",
    "    rotation.append(RZX(b=b).on(*q_chain))\n",
    "    return rotation\n",
    "\n",
    "\n",
    "def ansatz(a,b):\n",
    "    q_chain = cirq.LineQubit.range(2)\n",
    "    circ = cirq.Circuit()\n",
    "\n",
    "    rz = cirq.rz(-2*a)\n",
    "\n",
    "    circ.append(expZX(b))\n",
    "    circ.append(expXZ(b))\n",
    "\n",
    "    circ.append(rz(q_chain[1]))\n",
    "    circ.append(rz(q_chain[0]))\n",
    "\n",
    "    return circ\n",
    "\n",
    "# testing our implementation of the Ansatz circuit\n",
    "ansatz_state = ansatz(np.pi/2,np.pi/2)\n",
    "print(ansatz_state)\n",
    "\n",
    "result = simulator.simulate(ansatz_state)\n",
    "print('Bra-ket notation for the wavefunction:')\n",
    "print(result.dirac_notation()) #this is correct"
   ]
  },
  {
   "cell_type": "code",
   "execution_count": 41,
   "id": "664645a6",
   "metadata": {},
   "outputs": [],
   "source": [
    "# Exercise 12\n",
    "\n",
    "alist = np.linspace(0,np.pi,20)\n",
    "blist = np.linspace(0,np.pi,20)\n",
    "\n",
    "energies = np.empty(shape=(len(alist),len(blist)))\n",
    "\n",
    "q_chain = cirq.LineQubit.range(2)\n",
    "q0 = q_chain[0]\n",
    "q1 = q_chain[1]\n",
    "\n",
    "\n",
    "for i, a in enumerate(alist):\n",
    "    for j, b in enumerate(blist):\n",
    "        energies[i,j] = simulator.simulate_expectation_values(ansatz(a,b), observables=-cirq.Z(q0)*cirq.X(q1)-cirq.X(q0)*cirq.Z(q1) )[0].real"
   ]
  },
  {
   "cell_type": "code",
   "execution_count": 42,
   "id": "0fd490b6",
   "metadata": {},
   "outputs": [
    {
     "data": {
      "image/png": "[encoded data removed]",
      "text/plain": [
       "<Figure size 432x288 with 2 Axes>"
      ]
     },
     "metadata": {
      "needs_background": "light"
     },
     "output_type": "display_data"
    }
   ],
   "source": [
    "pos = plt.imshow(energies, cmap='hot', interpolation='nearest', extent=[0,alist[-1],blist[-1],0])\n",
    "\n",
    "plt.title('Energies')\n",
    "plt.ylabel('a')\n",
    "plt.xlabel('b')\n",
    "plt.colorbar(pos)\n",
    "\n",
    "plt.show()"
   ]
  },
  {
   "cell_type": "code",
   "execution_count": 43,
   "id": "147ca0b3",
   "metadata": {},
   "outputs": [
    {
     "name": "stdout",
     "output_type": "stream",
     "text": [
      "The smallest energy is:  -1.986361026763916\n",
      "105\n",
      "Indices for the arrays are: (i: 5 and j: 5) \n",
      "Values for the indices are: (a: 0.8267349088394192 and b: 0.8267349088394192) \n"
     ]
    }
   ],
   "source": [
    "print(\"The smallest energy is: \", np.amin(energies)) #should be -2 in theory\n",
    "arg = np.argmin(energies)\n",
    "print(arg)\n",
    "bmin= arg%20\n",
    "amin= (arg)//20\n",
    "print(\"Indices for the arrays are: (i: {} and j: {}) \".format(amin,bmin) )\n",
    "print(\"Values for the indices are: (a: {} and b: {}) \".format(alist[amin],blist[bmin]))"
   ]
  },
  {
   "cell_type": "code",
   "execution_count": 44,
   "id": "6248ace8",
   "metadata": {},
   "outputs": [
    {
     "name": "stdout",
     "output_type": "stream",
     "text": [
      "(array([ 5, 14], dtype=int64), array([ 5, 14], dtype=int64))\n"
     ]
    }
   ],
   "source": [
    "print(np.where(energies == np.amin(energies))) #printing the pair of indices for which the min is achieved\n",
    "# here this is (5,5) and (14,14)"
   ]
  },
  {
   "cell_type": "code",
   "execution_count": 45,
   "id": "f9769abd",
   "metadata": {},
   "outputs": [
    {
     "name": "stdout",
     "output_type": "stream",
     "text": [
      "Energy of ground state: -1.986\n"
     ]
    }
   ],
   "source": [
    "test =simulator.simulate_expectation_values(ansatz(alist[14],alist[14]), observables=-cirq.Z(q0)*cirq.X(q1)-cirq.X(q0)*cirq.Z(q1) )[0]\n",
    "print('Energy of ground state:', round(test.real,3))"
   ]
  },
  {
   "cell_type": "code",
   "execution_count": 46,
   "id": "f97d3768",
   "metadata": {},
   "outputs": [],
   "source": [
    "def entanglement_entropy(circ, simulator=cirq.Simulator()):\n",
    "\n",
    "    result = simulator.simulate(circ)\n",
    "    state = result.final_state_vector\n",
    "\n",
    "    C = np.reshape(state, newshape=(2,2))\n",
    "\n",
    "    u, s, vh = LA.svd(C)\n",
    "\n",
    "    ent = 0\n",
    "    for sigma in s:\n",
    "        if sigma != 0:\n",
    "            ent -= sigma**2 * log(sigma**2,2)\n",
    "\n",
    "    return ent"
   ]
  },
  {
   "cell_type": "code",
   "execution_count": 47,
   "id": "857fd652",
   "metadata": {},
   "outputs": [
    {
     "name": "stdout",
     "output_type": "stream",
     "text": [
      "0: ───RZX(0.8267349088394192)───RXZ(0.8267349088394192)───Rz(-0.526π)───\n",
      "      │                         │\n",
      "1: ───RZX(0.8267349088394192)───RXZ(0.8267349088394192)───Rz(-0.526π)───\n",
      "=====================================\n",
      "Bra-ket notation for the wavefunction:\n",
      "(-0.04+0.46j)|00⟩ + 0.5j|01⟩ + 0.5j|10⟩ + (-0.04-0.54j)|11⟩\n",
      "=====================================\n",
      "[ 0.5  0.5  0.5 -0.5]\n",
      "Including the global phase and taking only the real part: \n",
      "[ 0.45714357  0.4982922   0.4982922  -0.5394409 ]\n",
      "True\n"
     ]
    },
    {
     "data": {
      "text/plain": [
       "0.9901730365989556"
      ]
     },
     "execution_count": 47,
     "metadata": {},
     "output_type": "execute_result"
    }
   ],
   "source": [
    "#13\n",
    "gs = ansatz(alist[amin],blist[bmin])\n",
    "print(gs)\n",
    "\n",
    "result = simulator.simulate(gs)\n",
    "state = result.final_state_vector\n",
    "\n",
    "print('=====================================')\n",
    "print('Bra-ket notation for the wavefunction:')\n",
    "print(result.dirac_notation())\n",
    "print('=====================================')\n",
    "\n",
    "#correct up to a global phase of e^(-ipi/2)\n",
    "gs_state = np.array([1,1,1,-1])*0.5\n",
    "print(gs_state)\n",
    "\n",
    "print('Including the global phase and taking only the real part: ')\n",
    "print((np.exp(-1j*np.pi/2)*state).real)\n",
    "print(cirq.equal_up_to_global_phase(gs_state, state, atol=1))\n",
    "\n",
    "entanglement_entropy(gs) #should be equal to 1 in theory\n",
    "\n",
    "\n",
    "\n"
   ]
  },
  {
   "cell_type": "code",
   "execution_count": 48,
   "id": "e5538a68",
   "metadata": {},
   "outputs": [],
   "source": [
    "# Exercise 15:\n",
    "\n",
    "entanglement = np.empty(shape=(len(alist),len(blist)))\n",
    "\n",
    "simulator = cirq.Simulator()\n",
    "\n",
    "for i, a in enumerate(alist):\n",
    "    for j, b in enumerate(blist):\n",
    "        ansatz_state = ansatz(a,b)\n",
    "        entanglement[i,j] = entanglement_entropy(ansatz_state, simulator)\n",
    "\n",
    "        "
   ]
  },
  {
   "cell_type": "code",
   "execution_count": 49,
   "id": "4be39c41",
   "metadata": {},
   "outputs": [
    {
     "data": {
      "image/png": "[encoded data removed]",
      "text/plain": [
       "<Figure size 432x288 with 2 Axes>"
      ]
     },
     "metadata": {
      "needs_background": "light"
     },
     "output_type": "display_data"
    }
   ],
   "source": [
    "pos2 = plt.imshow(entanglement, cmap='hot', interpolation='nearest')\n",
    "\n",
    "plt.title('Entanglement')\n",
    "plt.ylabel('a')\n",
    "plt.xlabel('b')\n",
    "plt.colorbar(pos2)\n",
    "\n",
    "plt.show()"
   ]
  },
  {
   "cell_type": "code",
   "execution_count": 50,
   "id": "6fe57622",
   "metadata": {},
   "outputs": [
    {
     "name": "stdout",
     "output_type": "stream",
     "text": [
      "The highest Entropy is:  0.9901730365989556\n",
      "at 105\n",
      "Indices in the arrays are: (i: 5 and j: 5) \n",
      "Values for the indices are: (a: 0.8267349088394192 and b: 0.8267349088394192) \n"
     ]
    }
   ],
   "source": [
    "print(\"The highest Entropy is: \", np.amax(entanglement))\n",
    "arg = np.argmax(entanglement)\n",
    "print('at',arg)\n",
    "b= arg%20\n",
    "a= (arg-b)//20\n",
    "print(\"Indices in the arrays are: (i: {} and j: {}) \".format(a,b) )\n",
    "print(\"Values for the indices are: (a: {} and b: {}) \".format(alist[a],blist[b]) )"
   ]
  },
  {
   "cell_type": "code",
   "execution_count": 51,
   "id": "9aad224d",
   "metadata": {},
   "outputs": [
    {
     "name": "stdout",
     "output_type": "stream",
     "text": [
      "(array([ 5,  5, 14, 14], dtype=int64), array([ 5, 14,  5, 14], dtype=int64))\n"
     ]
    }
   ],
   "source": [
    "print(np.where(entanglement == np.amax(entanglement))) #printing the pair of indices for which the min is achieved"
   ]
  },
  {
   "cell_type": "code",
   "execution_count": 52,
   "id": "f0886640",
   "metadata": {},
   "outputs": [
    {
     "data": {
      "text/plain": [
       "0.9901730365989556"
      ]
     },
     "execution_count": 52,
     "metadata": {},
     "output_type": "execute_result"
    }
   ],
   "source": [
    "test = ansatz(alist[14],blist[5])\n",
    "entanglement_entropy(test, simulator)"
   ]
  },
  {
   "cell_type": "markdown",
   "id": "83dd1408",
   "metadata": {},
   "source": [
    "the two ground states encountered coincid with points where entanglement is highest"
   ]
  },
  {
   "cell_type": "markdown",
   "id": "f6905ced",
   "metadata": {},
   "source": [
    "# Not used:"
   ]
  },
  {
   "cell_type": "code",
   "execution_count": 53,
   "id": "49ab5aec",
   "metadata": {},
   "outputs": [],
   "source": [
    "def Troterization_noise(w,wo,w1,t):\n",
    "    \n",
    "    noise = cirq.ConstantQubitNoiseModel(cirq.GeneralizedAmplitudeDampingChannel(p=0.9,gamma=0.02))\n",
    "    \n",
    "    troter = U(w,wo,w1,t)\n",
    "    \n",
    "    reps = 10000\n",
    "    \n",
    "    troter.append(cirq.measure(q_chain[0]))\n",
    "    result = cirq.sample(program=troter, noise=noise, repetitions=reps) # type(result) = <class 'cirq.study.result.ResultDict'>\n",
    "    \n",
    "    # other keys don't seem to work\n",
    "    # type(histogram) = <class 'collections.Counter'>\n",
    "    histogram = result.histogram(key = '0') \n",
    "    \n",
    "    # _ = cirq.plot_state_histogram(histogram, plt.subplot())\n",
    "    # plt.show()\n",
    "\n",
    "    # population for state |1> := prob(measurement=1)\n",
    "    population = histogram[1]/reps\n",
    "    "
   ]
  },
  {
   "cell_type": "code",
   "execution_count": 54,
   "id": "ba44ec35",
   "metadata": {},
   "outputs": [
    {
     "name": "stdout",
     "output_type": "stream",
     "text": [
      "0: ───H───@───\n",
      "          │\n",
      "1: ───────X───\n",
      "[[0.70710677+0.j 0.        +0.j]\n",
      " [0.        +0.j 0.70710677+0.j]]\n"
     ]
    },
    {
     "data": {
      "text/plain": [
       "1.0000000151528048"
      ]
     },
     "execution_count": 54,
     "metadata": {},
     "output_type": "execute_result"
    }
   ],
   "source": [
    "# Test for entanglement entropy in a bell state\n",
    "\n",
    "q0,q1 = cirq.LineQubit.range(2)\n",
    "\n",
    "circ = cirq.Circuit(cirq.H(q0), cirq.CNOT(q0,q1))\n",
    "\n",
    "print(circ)\n",
    "\n",
    "result = simulator.simulate(circ)\n",
    "state = result.final_state_vector\n",
    "\n",
    "C = np.reshape(state, newshape=(2,2))\n",
    "\n",
    "print(C)\n",
    "\n",
    "u, s, vh = LA.svd(C)\n",
    "\n",
    "ent = 0\n",
    "\n",
    "for sigma in s:\n",
    "    if sigma != 0:\n",
    "        ent -= sigma**2 * log(sigma**2,2)\n",
    "\n",
    "ent #should be equal to 1 by definition\n",
    "#entanglement= cirq.von_neumann_entropy(density)\n",
    "#print(entanglement)"
   ]
  }
 ],
 "metadata": {
  "kernelspec": {
   "display_name": "Python 3.10.5 64-bit",
   "language": "python",
   "name": "python3"
  },
  "language_info": {
   "codemirror_mode": {
    "name": "ipython",
    "version": 3
   },
   "file_extension": ".py",
   "mimetype": "text/x-python",
   "name": "python",
   "nbconvert_exporter": "python",
   "pygments_lexer": "ipython3",
   "version": "3.10.5"
  },
  "vscode": {
   "interpreter": {
    "hash": "33623eca8c1e5e7c1051ea3c2de0ff465e5e496a4aa75512427c108aa1244526"
   }
  }
 },
 "nbformat": 4,
 "nbformat_minor": 5
}
